{
 "cells": [
  {
   "cell_type": "code",
   "execution_count": 1,
   "id": "22da07a5-38f4-45cd-b50e-2bd57526f122",
   "metadata": {},
   "outputs": [
    {
     "name": "stdout",
     "output_type": "stream",
     "text": [
      "pranjal\n"
     ]
    }
   ],
   "source": [
    "print(\"pranjal\")"
   ]
  },
  {
   "cell_type": "code",
   "execution_count": 2,
   "id": "94bb15ac-3bda-4565-948a-a29a01ebe98d",
   "metadata": {},
   "outputs": [],
   "source": [
    "import os"
   ]
  },
  {
   "cell_type": "code",
   "execution_count": 3,
   "id": "f7a372f4-f4b5-41ca-b61d-b2358e85a738",
   "metadata": {},
   "outputs": [],
   "source": [
    "# os.system(\"notepad\")"
   ]
  },
  {
   "cell_type": "code",
   "execution_count": 4,
   "id": "9493d899-06c9-42c6-9d3a-c32a52527d1c",
   "metadata": {},
   "outputs": [],
   "source": [
    "import cv2"
   ]
  },
  {
   "cell_type": "code",
   "execution_count": 5,
   "id": "7fd809a3-37c4-40fb-972e-e810c9e66074",
   "metadata": {},
   "outputs": [],
   "source": [
    "cap=cv2.VideoCapture(0)"
   ]
  },
  {
   "cell_type": "code",
   "execution_count": 6,
   "id": "32e5069e-63ea-456f-8293-da07e2e47815",
   "metadata": {},
   "outputs": [],
   "source": [
    "status,photo=cap.read()"
   ]
  },
  {
   "cell_type": "code",
   "execution_count": 7,
   "id": "5011b19e-c81f-4762-aa25-e7b4dc085e3d",
   "metadata": {},
   "outputs": [
    {
     "data": {
      "text/plain": [
       "True"
      ]
     },
     "execution_count": 7,
     "metadata": {},
     "output_type": "execute_result"
    }
   ],
   "source": [
    "status"
   ]
  },
  {
   "cell_type": "code",
   "execution_count": 8,
   "id": "fc3d9b08-0c67-4643-b0d5-1eb65ff0ef30",
   "metadata": {},
   "outputs": [],
   "source": [
    "# cv2.imshow(\"myphoto\",photo)\n",
    "# cv2.waitKey()\n",
    "# cv2.destroyAllWindows()"
   ]
  },
  {
   "cell_type": "code",
   "execution_count": 9,
   "id": "f314df98-cd8b-4650-ba1d-50e188e94b03",
   "metadata": {},
   "outputs": [],
   "source": [
    "from cvzone.HandTrackingModule import HandDetector"
   ]
  },
  {
   "cell_type": "code",
   "execution_count": 10,
   "id": "997e2400-dde8-4ee5-9b37-fd64a27f1450",
   "metadata": {},
   "outputs": [],
   "source": [
    "detector=HandDetector()"
   ]
  },
  {
   "cell_type": "code",
   "execution_count": 11,
   "id": "350ca09c-001b-4d8b-90b3-6adb2b6c196b",
   "metadata": {},
   "outputs": [],
   "source": [
    "status,photo=cap.read()"
   ]
  },
  {
   "cell_type": "code",
   "execution_count": 12,
   "id": "a817a031-9cfd-447a-9f78-09f746cf0a6e",
   "metadata": {},
   "outputs": [],
   "source": [
    "hands=detector.findHands(photo)"
   ]
  },
  {
   "cell_type": "code",
   "execution_count": null,
   "id": "dd3ed7ee-765e-4aed-9dc6-99eecad23806",
   "metadata": {},
   "outputs": [],
   "source": [
    "cv2.imshow(\"myphoto\",photo)"
   ]
  },
  {
   "cell_type": "code",
   "execution_count": null,
   "id": "0fcd9ae7-73dc-495f-80f0-e53f0e525611",
   "metadata": {},
   "outputs": [],
   "source": [
    "cv2.waitKey(5000)"
   ]
  },
  {
   "cell_type": "code",
   "execution_count": null,
   "id": "272f6289-3232-4a9d-82ee-7a11a0c764ef",
   "metadata": {},
   "outputs": [],
   "source": [
    "cv2.destroyAllWindows()"
   ]
  },
  {
   "cell_type": "code",
   "execution_count": null,
   "id": "f06727fb-6528-4b3f-bb4d-a17ce64ca732",
   "metadata": {},
   "outputs": [],
   "source": [
    "mylmlist=hands[0][0]"
   ]
  },
  {
   "cell_type": "code",
   "execution_count": null,
   "id": "565d5b97-9c59-449b-bc45-07aac24e373f",
   "metadata": {},
   "outputs": [],
   "source": [
    "cv2.imshow(\"myphoto\",photo)\n",
    "cv2.waitKey(5000)\n",
    "cv2.destroyAllWindows()\n",
    "\n",
    "mylmlist=hands[0][0]\n",
    "myfingerup=detector.fingersUp(mylmlist)\n",
    "myfingerup\n",
    "\n",
    "if myfingerup==[1,1,1,1,1]:\n",
    "    os.system(\"edge\")"
   ]
  },
  {
   "cell_type": "code",
   "execution_count": 1,
   "id": "a269dda4-e8f1-4485-9adf-35551a31e6c6",
   "metadata": {},
   "outputs": [],
   "source": []
  },
  {
   "cell_type": "code",
   "execution_count": null,
   "id": "19135965-e742-4148-832a-d612077f3e64",
   "metadata": {},
   "outputs": [],
   "source": []
  },
  {
   "cell_type": "code",
   "execution_count": null,
   "id": "55ed9833-e20c-4b0f-bbba-3ef01740394c",
   "metadata": {},
   "outputs": [],
   "source": []
  }
 ],
 "metadata": {
  "kernelspec": {
   "display_name": "Python 3 (ipykernel)",
   "language": "python",
   "name": "python3"
  },
  "language_info": {
   "codemirror_mode": {
    "name": "ipython",
    "version": 3
   },
   "file_extension": ".py",
   "mimetype": "text/x-python",
   "name": "python",
   "nbconvert_exporter": "python",
   "pygments_lexer": "ipython3",
   "version": "3.12.4"
  }
 },
 "nbformat": 4,
 "nbformat_minor": 5
}
